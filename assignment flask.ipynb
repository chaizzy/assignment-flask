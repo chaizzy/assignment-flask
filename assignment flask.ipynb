{
 "cells": [
  {
   "cell_type": "code",
   "execution_count": 1,
   "id": "f5294725-9554-4f75-8732-c828462beb8b",
   "metadata": {},
   "outputs": [],
   "source": [
    "# ANS 1 :\n",
    "# \"flask framework \" is a pythonic library and it is used to build api's \n",
    "# it exposes all the methods and functions to the outer world\n",
    "\n",
    "# flask is lightweight and flexible which is used to build web applications in way you want"
   ]
  },
  {
   "cell_type": "code",
   "execution_count": 3,
   "id": "372677b9-dcdc-48b9-b056-2b12cd972913",
   "metadata": {},
   "outputs": [
    {
     "name": "stdout",
     "output_type": "stream",
     "text": [
      "Collecting flask\n",
      "  Downloading Flask-2.2.3-py3-none-any.whl (101 kB)\n",
      "\u001b[2K     \u001b[90m━━━━━━━━━━━━━━━━━━━━━━━━━━━━━━━━━━━━━━\u001b[0m \u001b[32m101.8/101.8 kB\u001b[0m \u001b[31m12.0 MB/s\u001b[0m eta \u001b[36m0:00:00\u001b[0m\n",
      "\u001b[?25hRequirement already satisfied: Jinja2>=3.0 in /opt/conda/lib/python3.10/site-packages (from flask) (3.1.2)\n",
      "Requirement already satisfied: click>=8.0 in /opt/conda/lib/python3.10/site-packages (from flask) (8.1.3)\n",
      "Collecting itsdangerous>=2.0\n",
      "  Downloading itsdangerous-2.1.2-py3-none-any.whl (15 kB)\n",
      "Collecting Werkzeug>=2.2.2\n",
      "  Downloading Werkzeug-2.2.3-py3-none-any.whl (233 kB)\n",
      "\u001b[2K     \u001b[90m━━━━━━━━━━━━━━━━━━━━━━━━━━━━━━━━━━━━━━\u001b[0m \u001b[32m233.6/233.6 kB\u001b[0m \u001b[31m31.3 MB/s\u001b[0m eta \u001b[36m0:00:00\u001b[0m\n",
      "\u001b[?25hRequirement already satisfied: MarkupSafe>=2.0 in /opt/conda/lib/python3.10/site-packages (from Jinja2>=3.0->flask) (2.1.1)\n",
      "Installing collected packages: Werkzeug, itsdangerous, flask\n",
      "Successfully installed Werkzeug-2.2.3 flask-2.2.3 itsdangerous-2.1.2\n",
      "Note: you may need to restart the kernel to use updated packages.\n"
     ]
    }
   ],
   "source": [
    "pip install flask\n"
   ]
  },
  {
   "cell_type": "code",
   "execution_count": 2,
   "id": "321d508a-838b-4f4a-be6d-4cbe77e1d16e",
   "metadata": {},
   "outputs": [
    {
     "name": "stdout",
     "output_type": "stream",
     "text": [
      " * Serving Flask app '__main__'\n",
      " * Debug mode: off\n"
     ]
    },
    {
     "name": "stderr",
     "output_type": "stream",
     "text": [
      "WARNING: This is a development server. Do not use it in a production deployment. Use a production WSGI server instead.\n",
      " * Running on all addresses (0.0.0.0)\n",
      " * Running on http://127.0.0.1:5000\n",
      " * Running on http://172.18.0.3:5000\n",
      "Press CTRL+C to quit\n",
      "172.18.0.2 - - [07/Apr/2023 03:43:41] \"GET / HTTP/1.1\" 200 -\n",
      "172.18.0.2 - - [07/Apr/2023 03:43:41] \"GET /favicon.ico HTTP/1.1\" 404 -\n"
     ]
    }
   ],
   "source": [
    "# ANS 2:\n",
    "\n",
    "from flask import Flask\n",
    "\n",
    "app = Flask(__name__)\n",
    "\n",
    "@app.route('/')\n",
    "def helloworld():\n",
    "    return \"Hello World !\"\n",
    "\n",
    "if __name__==\"__main__\":\n",
    "    app.run(host=\"0.0.0.0\")"
   ]
  },
  {
   "cell_type": "code",
   "execution_count": 9,
   "id": "7c72cd2e-9e6c-48f6-85bd-7182d4fc76ea",
   "metadata": {},
   "outputs": [],
   "source": [
    "#(https://1drv.ms/i/s!As-S6nQDgeCZhnGukpBPzjXVKqEr?e=dRpEGf)\n",
    "# screen shot is not uploading , you can assess using above link"
   ]
  },
  {
   "cell_type": "code",
   "execution_count": 10,
   "id": "a76cf0a7-bc08-4ca2-ae92-d7cc967c7c19",
   "metadata": {},
   "outputs": [],
   "source": [
    "# ANS 3:\n",
    "# App routing means mapping the url to the function which can handle the logic \n",
    "# we use app route for binding the function to the url path"
   ]
  },
  {
   "cell_type": "code",
   "execution_count": 12,
   "id": "529ff510-4149-4477-b40e-50aa4a202009",
   "metadata": {},
   "outputs": [
    {
     "name": "stdout",
     "output_type": "stream",
     "text": [
      " * Serving Flask app '__main__'\n",
      " * Debug mode: off\n"
     ]
    },
    {
     "name": "stderr",
     "output_type": "stream",
     "text": [
      "WARNING: This is a development server. Do not use it in a production deployment. Use a production WSGI server instead.\n",
      " * Running on all addresses (0.0.0.0)\n",
      " * Running on http://127.0.0.1:5000\n",
      " * Running on http://172.18.0.3:5000\n",
      "Press CTRL+C to quit\n",
      "172.18.0.2 - - [07/Apr/2023 04:34:16] \"GET /welcome1 HTTP/1.1\" 200 -\n"
     ]
    }
   ],
   "source": [
    "# ANS 4:\n",
    "from flask import Flask\n",
    "\n",
    "app = Flask(__name__)\n",
    "\n",
    "@app.route(\"/welcome\")\n",
    "def welcome():\n",
    "    return \"Welcome to ABC coorporation !\"\n",
    "\n",
    "@app.route(\"/welcome1\")\n",
    "def welcome1():\n",
    "    data = {\"Company Name\": \"ABC Corporation\",\n",
    "            \"Location\": \"India\",\n",
    "                \"Contact Detail\": \"999-999-9999\"}\n",
    "    return \"Welcome to ABC coorporation {}\".format(data)\n",
    "\n",
    "            \n",
    "if __name__==\"__main__\":\n",
    "    app.run(host=\"0.0.0.0\")\n",
    "    \n",
    "    "
   ]
  },
  {
   "cell_type": "code",
   "execution_count": null,
   "id": "c7e82218-df58-401d-a74a-9987016d068a",
   "metadata": {},
   "outputs": [],
   "source": [
    "#screenshot\n",
    "#https://1drv.ms/i/s!As-S6nQDgeCZhnKfj0g2WUIuxY40?e=vT4Xv1"
   ]
  },
  {
   "cell_type": "code",
   "execution_count": null,
   "id": "d37430fe-606b-48cc-9ff7-f7799984cf50",
   "metadata": {},
   "outputs": [],
   "source": [
    "# ANS 5:\n",
    "# url_for() method is used for url binding"
   ]
  },
  {
   "cell_type": "code",
   "execution_count": 5,
   "id": "a80d1278-1c88-4080-974b-bc4dc434132c",
   "metadata": {},
   "outputs": [
    {
     "name": "stdout",
     "output_type": "stream",
     "text": [
      "/\n",
      "/user/chaitanya\n",
      "/post/123\n"
     ]
    }
   ],
   "source": [
    "from flask import Flask, url_for\n",
    "\n",
    "app = Flask(__name__)\n",
    "\n",
    "@app.route('/')\n",
    "def home():\n",
    "    return 'This is the home page.'\n",
    "\n",
    "@app.route('/user/<username>')\n",
    "def user_profile(username):\n",
    "    return f'This is the profile page of {username}.'\n",
    "\n",
    "@app.route('/post/<int:post_id>')\n",
    "def post_detail(post_id):\n",
    "    return f'This is the post detail page of post #{post_id}.'\n",
    "\n",
    "with app.test_request_context():\n",
    "    \n",
    "    print(url_for('home'))\n",
    "    print(url_for('user_profile', username='chaitanya'))\n",
    "    print(url_for('post_detail', post_id=123))"
   ]
  },
  {
   "cell_type": "code",
   "execution_count": 2,
   "id": "26b67b58-c5de-4451-8e28-cadfeefe99d2",
   "metadata": {},
   "outputs": [
    {
     "name": "stdout",
     "output_type": "stream",
     "text": [
      "Collecting flask\n",
      "  Downloading Flask-2.2.3-py3-none-any.whl (101 kB)\n",
      "\u001b[2K     \u001b[90m━━━━━━━━━━━━━━━━━━━━━━━━━━━━━━━━━━━━━━━\u001b[0m \u001b[32m101.8/101.8 kB\u001b[0m \u001b[31m5.2 MB/s\u001b[0m eta \u001b[36m0:00:00\u001b[0m\n",
      "\u001b[?25hCollecting itsdangerous>=2.0\n",
      "  Downloading itsdangerous-2.1.2-py3-none-any.whl (15 kB)\n",
      "Requirement already satisfied: Jinja2>=3.0 in /opt/conda/lib/python3.10/site-packages (from flask) (3.1.2)\n",
      "Requirement already satisfied: click>=8.0 in /opt/conda/lib/python3.10/site-packages (from flask) (8.1.3)\n",
      "Collecting Werkzeug>=2.2.2\n",
      "  Downloading Werkzeug-2.2.3-py3-none-any.whl (233 kB)\n",
      "\u001b[2K     \u001b[90m━━━━━━━━━━━━━━━━━━━━━━━━━━━━━━━━━━━━━━\u001b[0m \u001b[32m233.6/233.6 kB\u001b[0m \u001b[31m26.9 MB/s\u001b[0m eta \u001b[36m0:00:00\u001b[0m\n",
      "\u001b[?25hRequirement already satisfied: MarkupSafe>=2.0 in /opt/conda/lib/python3.10/site-packages (from Jinja2>=3.0->flask) (2.1.1)\n",
      "Installing collected packages: Werkzeug, itsdangerous, flask\n",
      "Successfully installed Werkzeug-2.2.3 flask-2.2.3 itsdangerous-2.1.2\n",
      "Note: you may need to restart the kernel to use updated packages.\n"
     ]
    }
   ],
   "source": [
    "pip install flask\n"
   ]
  },
  {
   "cell_type": "code",
   "execution_count": null,
   "id": "52347a11-af7d-4a28-822b-229392170663",
   "metadata": {},
   "outputs": [],
   "source": []
  }
 ],
 "metadata": {
  "kernelspec": {
   "display_name": "Python 3 (ipykernel)",
   "language": "python",
   "name": "python3"
  },
  "language_info": {
   "codemirror_mode": {
    "name": "ipython",
    "version": 3
   },
   "file_extension": ".py",
   "mimetype": "text/x-python",
   "name": "python",
   "nbconvert_exporter": "python",
   "pygments_lexer": "ipython3",
   "version": "3.10.8"
  }
 },
 "nbformat": 4,
 "nbformat_minor": 5
}
